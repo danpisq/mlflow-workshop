{
 "cells": [
  {
   "cell_type": "markdown",
   "metadata": {},
   "source": [
    "# MLFlow Intro "
   ]
  },
  {
   "cell_type": "markdown",
   "metadata": {},
   "source": [
    "https://github.com/danpisq/mlflow-workshop.git <br>\n",
    "Install mlflow: <h3> pip install mlflow </h3>"
   ]
  },
  {
   "cell_type": "markdown",
   "metadata": {},
   "source": [
    "## ML development challanges\n",
    "<ul>\n",
    "    <li><h4>Lots of develpment tools</h4></li>\n",
    "    <li><h4>Hard to track and reproduce results</h4></li>\n",
    "</ul>"
   ]
  },
  {
   "cell_type": "markdown",
   "metadata": {},
   "source": [
    "## MLFlow \n",
    "<ul>\n",
    "    <li><h4>Opensource machine learning platform</h4></li>\n",
    "    <li><h4>Works with any ML library</h4></li>\n",
    "    <li><h4>Runs the same everywhere</h4></li>\n",
    "    <li><h4>Allows for collaboration</h4></li>\n",
    "</ul>"
   ]
  },
  {
   "cell_type": "markdown",
   "metadata": {},
   "source": [
    "<img src=\"https://databricks.com/wp-content/uploads/2018/06/mlflow.png\">"
   ]
  },
  {
   "cell_type": "markdown",
   "metadata": {},
   "source": [
    "<h3>repo : https://github.com/danpisq/mlflow-workshop.git</h3>"
   ]
  },
  {
   "cell_type": "markdown",
   "metadata": {},
   "source": [
    "# MLFlow Tracking \n",
    "\n",
    "<h3>Key components in tracking</h3>\n",
    "<ul>\n",
    "    <li><h4>Parameters - input to code</h4></li>\n",
    "    <li><h4>Metrics - can change over time</h4></li>\n",
    "    <li><h4>Artifacts - files, inlcuding models</h4></li>\n",
    "    <li><h4>Source - what produced the run</h4></li>\n",
    "</ul>"
   ]
  },
  {
   "cell_type": "markdown",
   "metadata": {},
   "source": [
    "\n",
    "<h4>Working with remote server (OPTIONAL)</h4>\n",
    "<p>MlFlow allows us to work with one centralized tracking server</p>\n",
    "\n",
    "<p>to start server use command:</p>\n",
    "<code>mlflow server -p 5050</code>\n",
    "<p>than you'll need to set env variable</p>\n",
    "<code>export MLFLOW_TRACKING_URI=http://127.0.0.1:5050</code>\n",
    "<p>By doing so all runs will end in one place</p>"
   ]
  },
  {
   "cell_type": "markdown",
   "metadata": {},
   "source": [
    "# Ex 1 - MLFlow Tracking\n",
    "<p>Let's build a simple model and querry it using mlflow.</p>\n",
    "<p>We are going to use <b>Wine Quality Dataset</b> the goal is to predict quality of a wine based on given features, such as: amout of sugar, alcohol etc. </p>\n",
    "<p>We are going to use ElasticNet model from scikit-learn library</p>\n"
   ]
  },
  {
   "cell_type": "markdown",
   "metadata": {},
   "source": [
    "<h4> Imports </h4>\n"
   ]
  },
  {
   "cell_type": "code",
   "execution_count": 39,
   "metadata": {},
   "outputs": [],
   "source": [
    "import mlflow\n",
    "import mlflow.sklearn\n",
    "\n",
    "import numpy as np\n",
    "import pandas as pd\n",
    "\n",
    "from sklearn.linear_model import ElasticNet\n",
    "from sklearn.metrics import mean_squared_error, mean_absolute_error, r2_score\n",
    "from sklearn.model_selection import train_test_split"
   ]
  },
  {
   "cell_type": "markdown",
   "metadata": {},
   "source": [
    "## Data\n",
    "<p>Lets load csv file using pandas</p>"
   ]
  },
  {
   "cell_type": "code",
   "execution_count": 40,
   "metadata": {},
   "outputs": [
    {
     "data": {
      "text/html": [
       "<div>\n",
       "<style scoped>\n",
       "    .dataframe tbody tr th:only-of-type {\n",
       "        vertical-align: middle;\n",
       "    }\n",
       "\n",
       "    .dataframe tbody tr th {\n",
       "        vertical-align: top;\n",
       "    }\n",
       "\n",
       "    .dataframe thead th {\n",
       "        text-align: right;\n",
       "    }\n",
       "</style>\n",
       "<table border=\"1\" class=\"dataframe\">\n",
       "  <thead>\n",
       "    <tr style=\"text-align: right;\">\n",
       "      <th></th>\n",
       "      <th>fixed acidity</th>\n",
       "      <th>volatile acidity</th>\n",
       "      <th>citric acid</th>\n",
       "      <th>residual sugar</th>\n",
       "      <th>chlorides</th>\n",
       "      <th>free sulfur dioxide</th>\n",
       "      <th>total sulfur dioxide</th>\n",
       "      <th>density</th>\n",
       "      <th>pH</th>\n",
       "      <th>sulphates</th>\n",
       "      <th>alcohol</th>\n",
       "      <th>quality</th>\n",
       "    </tr>\n",
       "  </thead>\n",
       "  <tbody>\n",
       "    <tr>\n",
       "      <th>count</th>\n",
       "      <td>4898.000000</td>\n",
       "      <td>4898.000000</td>\n",
       "      <td>4898.000000</td>\n",
       "      <td>4898.000000</td>\n",
       "      <td>4898.000000</td>\n",
       "      <td>4898.000000</td>\n",
       "      <td>4898.000000</td>\n",
       "      <td>4898.000000</td>\n",
       "      <td>4898.000000</td>\n",
       "      <td>4898.000000</td>\n",
       "      <td>4898.000000</td>\n",
       "      <td>4898.000000</td>\n",
       "    </tr>\n",
       "    <tr>\n",
       "      <th>mean</th>\n",
       "      <td>6.854788</td>\n",
       "      <td>0.278241</td>\n",
       "      <td>0.334192</td>\n",
       "      <td>6.391415</td>\n",
       "      <td>0.045772</td>\n",
       "      <td>35.308085</td>\n",
       "      <td>138.360657</td>\n",
       "      <td>0.994027</td>\n",
       "      <td>3.188267</td>\n",
       "      <td>0.489847</td>\n",
       "      <td>10.514267</td>\n",
       "      <td>5.877909</td>\n",
       "    </tr>\n",
       "    <tr>\n",
       "      <th>std</th>\n",
       "      <td>0.843868</td>\n",
       "      <td>0.100795</td>\n",
       "      <td>0.121020</td>\n",
       "      <td>5.072058</td>\n",
       "      <td>0.021848</td>\n",
       "      <td>17.007137</td>\n",
       "      <td>42.498065</td>\n",
       "      <td>0.002991</td>\n",
       "      <td>0.151001</td>\n",
       "      <td>0.114126</td>\n",
       "      <td>1.230621</td>\n",
       "      <td>0.885639</td>\n",
       "    </tr>\n",
       "    <tr>\n",
       "      <th>min</th>\n",
       "      <td>3.800000</td>\n",
       "      <td>0.080000</td>\n",
       "      <td>0.000000</td>\n",
       "      <td>0.600000</td>\n",
       "      <td>0.009000</td>\n",
       "      <td>2.000000</td>\n",
       "      <td>9.000000</td>\n",
       "      <td>0.987110</td>\n",
       "      <td>2.720000</td>\n",
       "      <td>0.220000</td>\n",
       "      <td>8.000000</td>\n",
       "      <td>3.000000</td>\n",
       "    </tr>\n",
       "    <tr>\n",
       "      <th>25%</th>\n",
       "      <td>6.300000</td>\n",
       "      <td>0.210000</td>\n",
       "      <td>0.270000</td>\n",
       "      <td>1.700000</td>\n",
       "      <td>0.036000</td>\n",
       "      <td>23.000000</td>\n",
       "      <td>108.000000</td>\n",
       "      <td>0.991723</td>\n",
       "      <td>3.090000</td>\n",
       "      <td>0.410000</td>\n",
       "      <td>9.500000</td>\n",
       "      <td>5.000000</td>\n",
       "    </tr>\n",
       "    <tr>\n",
       "      <th>50%</th>\n",
       "      <td>6.800000</td>\n",
       "      <td>0.260000</td>\n",
       "      <td>0.320000</td>\n",
       "      <td>5.200000</td>\n",
       "      <td>0.043000</td>\n",
       "      <td>34.000000</td>\n",
       "      <td>134.000000</td>\n",
       "      <td>0.993740</td>\n",
       "      <td>3.180000</td>\n",
       "      <td>0.470000</td>\n",
       "      <td>10.400000</td>\n",
       "      <td>6.000000</td>\n",
       "    </tr>\n",
       "    <tr>\n",
       "      <th>75%</th>\n",
       "      <td>7.300000</td>\n",
       "      <td>0.320000</td>\n",
       "      <td>0.390000</td>\n",
       "      <td>9.900000</td>\n",
       "      <td>0.050000</td>\n",
       "      <td>46.000000</td>\n",
       "      <td>167.000000</td>\n",
       "      <td>0.996100</td>\n",
       "      <td>3.280000</td>\n",
       "      <td>0.550000</td>\n",
       "      <td>11.400000</td>\n",
       "      <td>6.000000</td>\n",
       "    </tr>\n",
       "    <tr>\n",
       "      <th>max</th>\n",
       "      <td>14.200000</td>\n",
       "      <td>1.100000</td>\n",
       "      <td>1.660000</td>\n",
       "      <td>65.800000</td>\n",
       "      <td>0.346000</td>\n",
       "      <td>289.000000</td>\n",
       "      <td>440.000000</td>\n",
       "      <td>1.038980</td>\n",
       "      <td>3.820000</td>\n",
       "      <td>1.080000</td>\n",
       "      <td>14.200000</td>\n",
       "      <td>9.000000</td>\n",
       "    </tr>\n",
       "  </tbody>\n",
       "</table>\n",
       "</div>"
      ],
      "text/plain": [
       "       fixed acidity  volatile acidity  citric acid  residual sugar  \\\n",
       "count    4898.000000       4898.000000  4898.000000     4898.000000   \n",
       "mean        6.854788          0.278241     0.334192        6.391415   \n",
       "std         0.843868          0.100795     0.121020        5.072058   \n",
       "min         3.800000          0.080000     0.000000        0.600000   \n",
       "25%         6.300000          0.210000     0.270000        1.700000   \n",
       "50%         6.800000          0.260000     0.320000        5.200000   \n",
       "75%         7.300000          0.320000     0.390000        9.900000   \n",
       "max        14.200000          1.100000     1.660000       65.800000   \n",
       "\n",
       "         chlorides  free sulfur dioxide  total sulfur dioxide      density  \\\n",
       "count  4898.000000          4898.000000           4898.000000  4898.000000   \n",
       "mean      0.045772            35.308085            138.360657     0.994027   \n",
       "std       0.021848            17.007137             42.498065     0.002991   \n",
       "min       0.009000             2.000000              9.000000     0.987110   \n",
       "25%       0.036000            23.000000            108.000000     0.991723   \n",
       "50%       0.043000            34.000000            134.000000     0.993740   \n",
       "75%       0.050000            46.000000            167.000000     0.996100   \n",
       "max       0.346000           289.000000            440.000000     1.038980   \n",
       "\n",
       "                pH    sulphates      alcohol      quality  \n",
       "count  4898.000000  4898.000000  4898.000000  4898.000000  \n",
       "mean      3.188267     0.489847    10.514267     5.877909  \n",
       "std       0.151001     0.114126     1.230621     0.885639  \n",
       "min       2.720000     0.220000     8.000000     3.000000  \n",
       "25%       3.090000     0.410000     9.500000     5.000000  \n",
       "50%       3.180000     0.470000    10.400000     6.000000  \n",
       "75%       3.280000     0.550000    11.400000     6.000000  \n",
       "max       3.820000     1.080000    14.200000     9.000000  "
      ]
     },
     "execution_count": 40,
     "metadata": {},
     "output_type": "execute_result"
    }
   ],
   "source": [
    "df = pd.read_csv(\"wine-quality.csv\")\n",
    "df.describe()"
   ]
  },
  {
   "cell_type": "markdown",
   "metadata": {},
   "source": [
    "Split the data for training and validation"
   ]
  },
  {
   "cell_type": "code",
   "execution_count": 41,
   "metadata": {},
   "outputs": [],
   "source": [
    "train, test = train_test_split(df)\n",
    "\n",
    "X_train = train.drop(['quality'], axis=1)\n",
    "X_test = test.drop(['quality'], axis=1)\n",
    "y_train = train['quality']\n",
    "y_test = test['quality']"
   ]
  },
  {
   "cell_type": "markdown",
   "metadata": {},
   "source": [
    "We are going to define simple function that will perform the validation"
   ]
  },
  {
   "cell_type": "code",
   "execution_count": 3,
   "metadata": {},
   "outputs": [],
   "source": [
    "def eval_metrics(actual, pred):\n",
    "    rmse = np.sqrt(mean_squared_error(actual, pred))\n",
    "    mae = mean_absolute_error(actual, pred)\n",
    "    r2 = r2_score(actual, pred)\n",
    "    return rmse, mae, r2"
   ]
  },
  {
   "cell_type": "markdown",
   "metadata": {},
   "source": [
    "## Hyperparameters"
   ]
  },
  {
   "cell_type": "code",
   "execution_count": 42,
   "metadata": {},
   "outputs": [],
   "source": [
    "ALPHA = 0.05\n",
    "L1_RATIO = 0.5"
   ]
  },
  {
   "cell_type": "markdown",
   "metadata": {},
   "source": [
    "## Main workflow "
   ]
  },
  {
   "cell_type": "code",
   "execution_count": 22,
   "metadata": {},
   "outputs": [],
   "source": [
    "with mlflow.start_run(nested=True):\n",
    "    \n",
    "    #build and train the model\n",
    "    model = ElasticNet(alpha=ALPHA, l1_ratio=L1_RATIO)\n",
    "    model.fit(X_train, y_train)\n",
    "\n",
    "    #logging parameters\n",
    "    mlflow.log_param('alpha', ALPHA)\n",
    "    mlflow.log_param('l1-ratio', L1_RATIO)\n",
    "\n",
    "    #eval\n",
    "    y_predicted = model.predict(X_test)\n",
    "    (rmse, mae, r2) = eval_metrics(y_test, y_predicted)\n",
    "\n",
    "    #logging metrics\n",
    "    mlflow.log_metric(\"rmse\", rmse)\n",
    "    mlflow.log_metric(\"r2\", r2)\n",
    "    mlflow.log_metric(\"mae\", mae)\n",
    "\n",
    "    #logging artifacts\n",
    "    mlflow.log_artifact('wine-quality.csv')\n",
    "\n",
    "    mlflow.sklearn.log_model(model, \"model\")"
   ]
  },
  {
   "cell_type": "markdown",
   "metadata": {},
   "source": [
    "<p>We can see mlflow created new folder <b>mlruns</b>, all data will be stored there.</p>"
   ]
  },
  {
   "cell_type": "code",
   "execution_count": 43,
   "metadata": {},
   "outputs": [
    {
     "name": "stdout",
     "output_type": "stream",
     "text": [
      "conda.yaml         \u001b[34mmlflow\u001b[m\u001b[m             \u001b[34mmlruns\u001b[m\u001b[m\r\n",
      "introduction.ipynb \u001b[34mmlflow2\u001b[m\u001b[m            wine-quality.csv\r\n"
     ]
    }
   ],
   "source": [
    "!ls "
   ]
  },
  {
   "cell_type": "code",
   "execution_count": null,
   "metadata": {},
   "outputs": [],
   "source": []
  },
  {
   "cell_type": "markdown",
   "metadata": {},
   "source": [
    "<p>Let's start mlflow app using command:</p>\n",
    "<code>mlflow ui</code>\n",
    "<p>By default it will run on <a href=\"http://localhost:5000\">http://localhost:5000</a> <p>"
   ]
  },
  {
   "cell_type": "markdown",
   "metadata": {},
   "source": [
    "<h3>Cleanup</h3>\n",
    "<p>We will remove <b>mlruns</b> foler before next example</p>"
   ]
  },
  {
   "cell_type": "code",
   "execution_count": 44,
   "metadata": {},
   "outputs": [
    {
     "name": "stdout",
     "output_type": "stream",
     "text": [
      "conda.yaml         \u001b[34mmlflow\u001b[m\u001b[m             wine-quality.csv\r\n",
      "introduction.ipynb \u001b[34mmlflow2\u001b[m\u001b[m\r\n"
     ]
    }
   ],
   "source": [
    "!rm -rf mlruns\n",
    "!ls"
   ]
  },
  {
   "cell_type": "markdown",
   "metadata": {},
   "source": [
    "# EX 2 - MLFlow Projects\n",
    "\n",
    "<p>Projects gives us high level format for reproducing runs on different platforms</p>"
   ]
  },
  {
   "cell_type": "markdown",
   "metadata": {},
   "source": [
    "<h3>Setup</h3>\n",
    "<p>Let's clone repository with next example</p>"
   ]
  },
  {
   "cell_type": "code",
   "execution_count": 45,
   "metadata": {},
   "outputs": [
    {
     "name": "stdout",
     "output_type": "stream",
     "text": [
      "fatal: destination path 'mlflow' already exists and is not an empty directory.\n",
      "MLproject        conda.yaml       wine-quality.csv\n",
      "README.md        train.py\n"
     ]
    }
   ],
   "source": [
    "!git clone https://github.com/greghop/mlflow.git\n",
    "!ls mlflow"
   ]
  },
  {
   "cell_type": "markdown",
   "metadata": {},
   "source": [
    "<h3>MLproject</h3>\n",
    "<p>MLproject is a definition of our project. It is written in YAML< /p>\n",
    "<p> It contains: </p>\n",
    "    <ul>\n",
    "        <li>name</li>\n",
    "        <li>information about conda/docker environment</li>\n",
    "        <li>information about entrypoints</li>\n",
    "    </ul>\n"
   ]
  },
  {
   "cell_type": "code",
   "execution_count": 47,
   "metadata": {},
   "outputs": [
    {
     "name": "stdout",
     "output_type": "stream",
     "text": [
      "name: tutorial\r\n",
      "\r\n",
      "conda_env: conda.yaml\r\n",
      "\r\n",
      "entry_points:\r\n",
      "  main:\r\n",
      "    parameters:\r\n",
      "      alpha: float\r\n",
      "      l1_ratio: {type: float, default: 0.1}\r\n",
      "    command: \"python train.py {alpha} {l1_ratio}\"\r\n"
     ]
    }
   ],
   "source": [
    "!cat mlflow/MLproject"
   ]
  },
  {
   "cell_type": "markdown",
   "metadata": {},
   "source": [
    "<b>conda.yaml </b>\n",
    "<p>specification of our environment</p>"
   ]
  },
  {
   "cell_type": "code",
   "execution_count": 48,
   "metadata": {},
   "outputs": [
    {
     "name": "stdout",
     "output_type": "stream",
     "text": [
      "name: tutorial\r\n",
      "channels:\r\n",
      "  - defaults\r\n",
      "dependencies:\r\n",
      "  - cloudpickle=0.6.1\r\n",
      "  - python=3.6\r\n",
      "  - numpy=1.14.3\r\n",
      "  - pandas=0.22.0\r\n",
      "  - scikit-learn=0.19.1\r\n",
      "  - pip:\r\n",
      "    - mlflow\r\n"
     ]
    }
   ],
   "source": [
    "!cat mlflow/conda.yaml"
   ]
  },
  {
   "cell_type": "markdown",
   "metadata": {},
   "source": [
    "<p>Our project is written in python so we can run it with following command, but to do so we would need to look at the source code to know parameters etc.</p>\n",
    "<p> Also we need to create environment manually.</p> \n"
   ]
  },
  {
   "cell_type": "code",
   "execution_count": 31,
   "metadata": {},
   "outputs": [
    {
     "name": "stdout",
     "output_type": "stream",
     "text": [
      "Elasticnet fantastic 3 model (alpha=0.800000, l1_ratio=0.400000):\n",
      "  RMSE: 0.8415661070696857\n",
      "  MAE: 0.6369562819100203\n",
      "  R2: 0.08526279091557487\n"
     ]
    }
   ],
   "source": [
    "!python mlflow/train.py 0.8 0.4"
   ]
  },
  {
   "cell_type": "markdown",
   "metadata": {},
   "source": [
    "<p>This is when MLflow Projects comes to rescue.</p>\n",
    "<p>It gives us command line API to run the code</p>"
   ]
  },
  {
   "cell_type": "markdown",
   "metadata": {},
   "source": [
    "<b>Running MLflow project</b> <br><br>\n",
    "mlflow run URI [OPTIONS] <br>\n",
    "\n",
    "<ul>\n",
    "<li>-P NAME=VALUE</li>\n",
    "<li>-e NAME</li>\n",
    "</ul>\n",
    "\n",
    "<p>Let's run the project using MLflow, It is going to create conda environment with all dependencies, and execute te source code</p>\n"
   ]
  },
  {
   "cell_type": "code",
   "execution_count": 32,
   "metadata": {},
   "outputs": [
    {
     "name": "stdout",
     "output_type": "stream",
     "text": [
      "2019/04/10 16:08:42 INFO mlflow.projects: === Created directory /var/folders/nh/p1tcdzns0ns99399dh81m56r0000gn/T/tmpzcn4z3kh for downloading remote URIs passed to arguments of type 'path' ===\n",
      "2019/04/10 16:08:42 INFO mlflow.projects: === Running command 'source activate mlflow-b93852916f9be8ee2359db52b5dfab5589743459 && python train.py 0.6 0.7' in run with ID 'a92fd48677524611b214d18760653efe' === \n",
      "/Users/dpiskors/anaconda3/envs/mlflow-b93852916f9be8ee2359db52b5dfab5589743459/lib/python3.6/site-packages/mlflow/utils/environment.py:26: YAMLLoadWarning: calling yaml.load() without Loader=... is deprecated, as the default Loader is unsafe. Please read https://msg.pyyaml.org/load for full details.\n",
      "  env = yaml.load(_conda_header)\n",
      "Elasticnet fantastic 3 model (alpha=0.600000, l1_ratio=0.700000):\n",
      "  RMSE: 0.8591606388045732\n",
      "  MAE: 0.648352939480482\n",
      "  R2: 0.04661433685958705\n",
      "2019/04/10 16:08:43 INFO mlflow.projects: === Run (ID 'a92fd48677524611b214d18760653efe') succeeded ===\n"
     ]
    }
   ],
   "source": [
    "!mlflow run mlflow/ -P alpha=0.6 -P l1_ratio=0.7"
   ]
  },
  {
   "cell_type": "markdown",
   "metadata": {},
   "source": [
    "<p><b>URI</b> doesn't have to be local path, it can also be github repository, as long as it contains <b>MLproject</b> file in the root </p>"
   ]
  },
  {
   "cell_type": "code",
   "execution_count": 33,
   "metadata": {},
   "outputs": [
    {
     "name": "stdout",
     "output_type": "stream",
     "text": [
      "2019/04/10 16:09:34 INFO mlflow.projects: === Fetching project from https://github.com/greghop/mlflow.git into /var/folders/nh/p1tcdzns0ns99399dh81m56r0000gn/T/tmpkn9ge01f ===\n",
      "2019/04/10 16:09:37 INFO mlflow.projects: === Created directory /var/folders/nh/p1tcdzns0ns99399dh81m56r0000gn/T/tmph4dkg9hh for downloading remote URIs passed to arguments of type 'path' ===\n",
      "2019/04/10 16:09:37 INFO mlflow.projects: === Running command 'source activate mlflow-b93852916f9be8ee2359db52b5dfab5589743459 && python train.py 0.1 0.5' in run with ID 'bb4b30aac8c5464dbf1583f56814742b' === \n",
      "/Users/dpiskors/anaconda3/envs/mlflow-b93852916f9be8ee2359db52b5dfab5589743459/lib/python3.6/site-packages/mlflow/utils/environment.py:26: YAMLLoadWarning: calling yaml.load() without Loader=... is deprecated, as the default Loader is unsafe. Please read https://msg.pyyaml.org/load for full details.\n",
      "  env = yaml.load(_conda_header)\n",
      "Elasticnet fantastic 3 model (alpha=0.100000, l1_ratio=0.500000):\n",
      "  RMSE: 0.7845017946547458\n",
      "  MAE: 0.6150949836730213\n",
      "  R2: 0.2051086790093516\n",
      "2019/04/10 16:09:39 INFO mlflow.projects: === Run (ID 'bb4b30aac8c5464dbf1583f56814742b') succeeded ===\n"
     ]
    }
   ],
   "source": [
    "!mlflow run https://github.com/greghop/mlflow.git -P alpha=0.1 -P l1_ratio=0.5"
   ]
  },
  {
   "cell_type": "markdown",
   "metadata": {},
   "source": [
    "http://localhost:5000"
   ]
  },
  {
   "cell_type": "markdown",
   "metadata": {},
   "source": [
    "Clean"
   ]
  },
  {
   "cell_type": "code",
   "execution_count": 50,
   "metadata": {},
   "outputs": [],
   "source": [
    "rm -rf mlruns\n"
   ]
  },
  {
   "cell_type": "markdown",
   "metadata": {},
   "source": [
    "# Ex 3 -  Multistep workflow\n",
    "<p>This example will show project with two parts</p>\n",
    "<ol>\n",
    "    <li>Simple preprocessing</li>\n",
    "    <li>Training</li>\n",
    "</ol>\n",
    "\n",
    "<h4>To get the source run following command:</h4>"
   ]
  },
  {
   "cell_type": "code",
   "execution_count": 51,
   "metadata": {},
   "outputs": [
    {
     "name": "stdout",
     "output_type": "stream",
     "text": [
      "fatal: destination path 'mlflow2' already exists and is not an empty directory.\n",
      "MLproject        conda.yaml       main.py          wine-quality.csv\n",
      "README.md        etl.py           train.py\n"
     ]
    }
   ],
   "source": [
    "!git clone https://github.com/greghop/mlflow2.git\n",
    "!ls mlflow2"
   ]
  },
  {
   "cell_type": "markdown",
   "metadata": {},
   "source": [
    "<h4>MLproject</h4>"
   ]
  },
  {
   "cell_type": "code",
   "execution_count": 52,
   "metadata": {},
   "outputs": [
    {
     "name": "stdout",
     "output_type": "stream",
     "text": [
      "name: multistep\r\n",
      "\r\n",
      "conda_env: conda.yaml\r\n",
      "\r\n",
      "entry_points:\r\n",
      "  etl:\r\n",
      "    parameters:\r\n",
      "      scaler: {type: int, default: 1}\r\n",
      "    command: \"python etl.py --scaler {scaler}\"\r\n",
      " \r\n",
      "  train:\r\n",
      "    parameters:\r\n",
      "      run-id: string\r\n",
      "      alpha: {type: float, default: 0.1}\r\n",
      "      l1-ratio: {type: float, default: 0.1}\r\n",
      "    command: \"python train.py --run-id {run-id} --alpha {alpha} --l1-ratio {l1-ratio}\"\r\n",
      "\r\n",
      "  main: \r\n",
      "    parameters:\r\n",
      "      alpha: {type: float, default: 0.1}\r\n",
      "      l1-ratio: {type: float, default: 0.1}\r\n",
      "    command: \"python main.py  --alpha {alpha} --l1-ratio {l1-ratio}\""
     ]
    }
   ],
   "source": [
    "!cat mlflow2/MLproject"
   ]
  },
  {
   "cell_type": "markdown",
   "metadata": {},
   "source": [
    "<p>We can see it is more complicated. Our projects contains three endpoints</p>\n",
    "<ul>\n",
    "    <li><h5>etl</h5> - reads csv data-file, normalizes it and logs it as MLflow artifact </li>\n",
    "    <li><h5>train</h5> - trains ElasticNet on data from specified run (run-id) with given hyperparams  </li>\n",
    "    <li><h5>main</h5> - runs both <b>etl</b> and <b>train</b> in semi inteligent way. Firstly it checks if there was a run in the past with specified parameters and git version. If yes it uses artifact from that run, and feeds it to the next step. If not it runs the step and than takes the artifacts.</li>\n",
    "    </ul>"
   ]
  },
  {
   "cell_type": "markdown",
   "metadata": {},
   "source": [
    "Let's run the whole project with default params"
   ]
  },
  {
   "cell_type": "code",
   "execution_count": 38,
   "metadata": {},
   "outputs": [
    {
     "name": "stdout",
     "output_type": "stream",
     "text": [
      "2019/04/10 16:14:24 INFO mlflow.projects: === Created directory /var/folders/nh/p1tcdzns0ns99399dh81m56r0000gn/T/tmpnrr6w437 for downloading remote URIs passed to arguments of type 'path' ===\n",
      "2019/04/10 16:14:24 INFO mlflow.projects: === Running command 'source activate mlflow-df90610eb3183421bcbf1eef16dc332bc5193c11 && python main.py  --alpha 0.1 --l1-ratio 0.1' in run with ID 'd149e9881be049f0902c624871cf1f19' === \n",
      "Launching new run for entrypoint=etl and parameters={'scaler': 1}\n",
      "2019/04/10 16:14:27 INFO mlflow.projects: === Created directory /var/folders/nh/p1tcdzns0ns99399dh81m56r0000gn/T/tmp8jjn4w8r for downloading remote URIs passed to arguments of type 'path' ===\n",
      "2019/04/10 16:14:27 INFO mlflow.projects: === Running command 'source activate mlflow-df90610eb3183421bcbf1eef16dc332bc5193c11 && python etl.py --scaler 1' in run with ID 'bf42743f0f984a938530b9069779b1c8' === \n",
      "2019/04/10 16:14:28 INFO mlflow.projects: === Run (ID 'bf42743f0f984a938530b9069779b1c8') succeeded ===\n",
      "Launching new run for entrypoint=train and parameters={'alpha': '0.1', 'l1-ratio': '0.1', 'run-id': 'bf42743f0f984a938530b9069779b1c8'}\n",
      "2019/04/10 16:14:30 INFO mlflow.projects: === Created directory /var/folders/nh/p1tcdzns0ns99399dh81m56r0000gn/T/tmpuujnwf57 for downloading remote URIs passed to arguments of type 'path' ===\n",
      "2019/04/10 16:14:30 INFO mlflow.projects: === Running command 'source activate mlflow-df90610eb3183421bcbf1eef16dc332bc5193c11 && python train.py --run-id bf42743f0f984a938530b9069779b1c8 --alpha 0.1 --l1-ratio 0.1' in run with ID '0071cfecaefe4c26b6e9d8207573e8de' === \n",
      "/Users/dpiskors/anaconda3/envs/mlflow-df90610eb3183421bcbf1eef16dc332bc5193c11/lib/python3.6/site-packages/mlflow/utils/environment.py:26: YAMLLoadWarning: calling yaml.load() without Loader=... is deprecated, as the default Loader is unsafe. Please read https://msg.pyyaml.org/load for full details.\n",
      "  env = yaml.load(_conda_header)\n",
      "Got MlFlow run with id bf42743f0f984a938530b9069779b1c8\n",
      "Elasticnet model improved (alpha=0.100000, l1_ratio=0.100000):\n",
      "  RMSE: 0.7590034561174585\n",
      "  MAE: 0.5968853540409758\n",
      "  R2: 0.26512490606628414\n",
      "2019/04/10 16:14:32 INFO mlflow.projects: === Run (ID '0071cfecaefe4c26b6e9d8207573e8de') succeeded ===\n",
      "2019/04/10 16:14:32 INFO mlflow.projects: === Run (ID 'd149e9881be049f0902c624871cf1f19') succeeded ===\n"
     ]
    }
   ],
   "source": [
    "!mlflow run mlflow2/ "
   ]
  },
  {
   "cell_type": "markdown",
   "metadata": {},
   "source": [
    "Now we can run it again with different hyperparameters for training. It will take data from previous <b>etl</b>, because parameters for this endpoint have not changed"
   ]
  },
  {
   "cell_type": "code",
   "execution_count": 55,
   "metadata": {},
   "outputs": [
    {
     "name": "stdout",
     "output_type": "stream",
     "text": [
      "2019/04/10 17:37:49 INFO mlflow.projects: === Created directory /var/folders/nh/p1tcdzns0ns99399dh81m56r0000gn/T/tmpdtm1_jt7 for downloading remote URIs passed to arguments of type 'path' ===\n",
      "2019/04/10 17:37:49 INFO mlflow.projects: === Running command 'source activate mlflow-df90610eb3183421bcbf1eef16dc332bc5193c11 && python main.py  --alpha 0.5 --l1-ratio 0.2' in run with ID '7f1b1ae3ed5742338ea39ae45449bf21' === \n",
      "Launching new run for entrypoint=etl and parameters={'scaler': 1}\n",
      "2019/04/10 17:37:52 INFO mlflow.projects: === Created directory /var/folders/nh/p1tcdzns0ns99399dh81m56r0000gn/T/tmphk_q8rk_ for downloading remote URIs passed to arguments of type 'path' ===\n",
      "2019/04/10 17:37:52 INFO mlflow.projects: === Running command 'source activate mlflow-df90610eb3183421bcbf1eef16dc332bc5193c11 && python etl.py --scaler 1' in run with ID '70002da578a4446a8fa4be801961e0e9' === \n",
      "2019/04/10 17:37:53 INFO mlflow.projects: === Run (ID '70002da578a4446a8fa4be801961e0e9') succeeded ===\n",
      "Launching new run for entrypoint=train and parameters={'alpha': '0.5', 'l1-ratio': '0.2', 'run-id': '70002da578a4446a8fa4be801961e0e9'}\n",
      "2019/04/10 17:37:55 INFO mlflow.projects: === Created directory /var/folders/nh/p1tcdzns0ns99399dh81m56r0000gn/T/tmpzciiwuwj for downloading remote URIs passed to arguments of type 'path' ===\n",
      "2019/04/10 17:37:55 INFO mlflow.projects: === Running command 'source activate mlflow-df90610eb3183421bcbf1eef16dc332bc5193c11 && python train.py --run-id 70002da578a4446a8fa4be801961e0e9 --alpha 0.5 --l1-ratio 0.2' in run with ID '796fa9c422744a74bde60930da04a906' === \n",
      "/Users/dpiskors/anaconda3/envs/mlflow-df90610eb3183421bcbf1eef16dc332bc5193c11/lib/python3.6/site-packages/mlflow/utils/environment.py:26: YAMLLoadWarning: calling yaml.load() without Loader=... is deprecated, as the default Loader is unsafe. Please read https://msg.pyyaml.org/load for full details.\n",
      "  env = yaml.load(_conda_header)\n",
      "Got MlFlow run with id 70002da578a4446a8fa4be801961e0e9\n",
      "Elasticnet model improved (alpha=0.500000, l1_ratio=0.200000):\n",
      "  RMSE: 0.792272476977104\n",
      "  MAE: 0.6039877934855322\n",
      "  R2: 0.17331700936114347\n",
      "2019/04/10 17:37:57 INFO mlflow.projects: === Run (ID '796fa9c422744a74bde60930da04a906') succeeded ===\n",
      "2019/04/10 17:37:57 INFO mlflow.projects: === Run (ID '7f1b1ae3ed5742338ea39ae45449bf21') succeeded ===\n"
     ]
    }
   ],
   "source": [
    "!mlflow run mlflow2/ -P alpha=0.5 -P l1-ratio=0.2"
   ]
  },
  {
   "cell_type": "markdown",
   "metadata": {},
   "source": [
    "We can also specify endpoint we want to run:"
   ]
  },
  {
   "cell_type": "code",
   "execution_count": 49,
   "metadata": {},
   "outputs": [
    {
     "name": "stdout",
     "output_type": "stream",
     "text": [
      "/Users/dpiskors/mlflow-workshop\r\n"
     ]
    }
   ],
   "source": [
    "!mlflow run -e etl -P scaler='standard'"
   ]
  },
  {
   "cell_type": "code",
   "execution_count": null,
   "metadata": {},
   "outputs": [],
   "source": []
  },
  {
   "cell_type": "code",
   "execution_count": null,
   "metadata": {},
   "outputs": [],
   "source": []
  }
 ],
 "metadata": {
  "kernelspec": {
   "display_name": "Python 3",
   "language": "python",
   "name": "python3"
  },
  "language_info": {
   "codemirror_mode": {
    "name": "ipython",
    "version": 3
   },
   "file_extension": ".py",
   "mimetype": "text/x-python",
   "name": "python",
   "nbconvert_exporter": "python",
   "pygments_lexer": "ipython3",
   "version": "3.7.1"
  }
 },
 "nbformat": 4,
 "nbformat_minor": 2
}
